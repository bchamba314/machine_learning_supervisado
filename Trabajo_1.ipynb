{
 "cells": [
  {
   "cell_type": "markdown",
   "metadata": {
    "id": "jjSubBlCbAxv"
   },
   "source": [
    "1. [Importación de paquetes necesarios](#1)\n",
    "\n",
    "2. [Carga de datos](#2)\n",
    "\n",
    "3. [Análisis descriptivo de los datos](#3)\n",
    "\n",
    "4. [Imputacion de missings](#4)\n",
    "\n",
    "5. [Transformación de variables](#5)\n",
    "\n",
    "6. [Regresión logística](#6)\n",
    "    1. [Evaluación del modelo](#7)\n",
    "\n",
    "7. [KNN](#8)\n",
    "    1. [Partición de los datos](#9)\n",
    "    2. [Evaluación del modelo](#10)\n",
    "    \n",
    "8. [Árbol de decisión](#11)\n",
    "    1. [Evaluación del modelo](#12)\n",
    "    \n",
    "9. [Ordenación de métodos según métricas](#13)\n",
    "\n",
    "10. [Gráfica de importancias](#14)\n"
   ]
  },
  {
   "cell_type": "markdown",
   "metadata": {
    "id": "YH_5_nPFbAxy"
   },
   "source": [
    "# <span style=\"color:Green\">Importación de paquetes necesarios</span><a id=\"1\"></a> <br>"
   ]
  },
  {
   "cell_type": "code",
   "execution_count": 1,
   "metadata": {
    "executionInfo": {
     "elapsed": 1085,
     "status": "ok",
     "timestamp": 1650294601156,
     "user": {
      "displayName": "Maria Garcia",
      "userId": "13829015885059236312"
     },
     "user_tz": -120
    },
    "id": "Yk1NDSmvbAxz"
   },
   "outputs": [],
   "source": [
    "import pandas as pd\n",
    "import numpy as np\n",
    "import matplotlib.pyplot as plt\n",
    "import math\n",
    "from scipy import stats\n",
    "import seaborn as sns\n",
    "import sklearn\n",
    "from sklearn import metrics\n",
    "from sklearn import model_selection\n",
    "from sklearn import linear_model\n",
    "from sklearn import preprocessing\n",
    "from sklearn.impute import SimpleImputer\n",
    "from sklearn.impute import KNNImputer\n",
    "from sklearn.model_selection import GridSearchCV\n",
    "from sklearn.preprocessing import StandardScaler\n",
    "from sklearn.neighbors import KNeighborsClassifier\n",
    "from sklearn.metrics import roc_curve\n",
    "from sklearn.metrics import roc_auc_score\n",
    "from sklearn.model_selection import cross_val_score\n",
    "from sklearn.metrics import auc\n",
    "from sklearn.preprocessing import LabelEncoder\n",
    "from sklearn.metrics import confusion_matrix\n",
    "from sklearn.metrics import accuracy_score\n",
    "from sklearn.model_selection import train_test_split\n",
    "from sklearn.preprocessing import MinMaxScaler\n",
    "from sklearn.metrics import plot_confusion_matrix"
   ]
  },
  {
   "cell_type": "markdown",
   "metadata": {
    "id": "UN0fWel_bAx0"
   },
   "source": [
    "# <span style=\"color:Green\">Carga de datos</span><a id=\"2\"></a> <br>"
   ]
  },
  {
   "cell_type": "code",
   "execution_count": 2,
   "metadata": {
    "colab": {
     "base_uri": "https://localhost:8080/",
     "height": 300
    },
    "executionInfo": {
     "elapsed": 5692,
     "status": "ok",
     "timestamp": 1650294183165,
     "user": {
      "displayName": "Maria Garcia",
      "userId": "13829015885059236312"
     },
     "user_tz": -120
    },
    "id": "i_lWgqQtbAx0",
    "outputId": "eb81a891-3e64-4fb8-f26b-d61c8601989d"
   },
   "outputs": [
    {
     "data": {
      "text/html": [
       "<div>\n",
       "<style scoped>\n",
       "    .dataframe tbody tr th:only-of-type {\n",
       "        vertical-align: middle;\n",
       "    }\n",
       "\n",
       "    .dataframe tbody tr th {\n",
       "        vertical-align: top;\n",
       "    }\n",
       "\n",
       "    .dataframe thead th {\n",
       "        text-align: right;\n",
       "    }\n",
       "</style>\n",
       "<table border=\"1\" class=\"dataframe\">\n",
       "  <thead>\n",
       "    <tr style=\"text-align: right;\">\n",
       "      <th></th>\n",
       "      <th>emp_title</th>\n",
       "      <th>emp_length</th>\n",
       "      <th>revol_util</th>\n",
       "      <th>dti</th>\n",
       "      <th>verification_status</th>\n",
       "      <th>annual_inc</th>\n",
       "      <th>home_ownership</th>\n",
       "      <th>sub_grade</th>\n",
       "      <th>grade</th>\n",
       "      <th>term</th>\n",
       "      <th>...</th>\n",
       "      <th>total_acc</th>\n",
       "      <th>purpose</th>\n",
       "      <th>addr_state</th>\n",
       "      <th>initial_list_status</th>\n",
       "      <th>application_type</th>\n",
       "      <th>pub_rec</th>\n",
       "      <th>pub_rec_bankruptcies</th>\n",
       "      <th>loan_amnt</th>\n",
       "      <th>mort_acc</th>\n",
       "      <th>open_acc</th>\n",
       "    </tr>\n",
       "  </thead>\n",
       "  <tbody>\n",
       "    <tr>\n",
       "      <th>0</th>\n",
       "      <td>NaN</td>\n",
       "      <td>NaN</td>\n",
       "      <td>55.1</td>\n",
       "      <td>21.61</td>\n",
       "      <td>Not Verified</td>\n",
       "      <td>10000.0</td>\n",
       "      <td>OWN</td>\n",
       "      <td>1.0</td>\n",
       "      <td>C</td>\n",
       "      <td>36.0</td>\n",
       "      <td>...</td>\n",
       "      <td>6.0</td>\n",
       "      <td>credit_card</td>\n",
       "      <td>NY</td>\n",
       "      <td>w</td>\n",
       "      <td>Individual</td>\n",
       "      <td>0.0</td>\n",
       "      <td>0.0</td>\n",
       "      <td>2300.0</td>\n",
       "      <td>0.0</td>\n",
       "      <td>4.0</td>\n",
       "    </tr>\n",
       "    <tr>\n",
       "      <th>1</th>\n",
       "      <td>teacher</td>\n",
       "      <td>10.0</td>\n",
       "      <td>105.8</td>\n",
       "      <td>25.61</td>\n",
       "      <td>Not Verified</td>\n",
       "      <td>94000.0</td>\n",
       "      <td>MORTGAGE</td>\n",
       "      <td>1.0</td>\n",
       "      <td>C</td>\n",
       "      <td>60.0</td>\n",
       "      <td>...</td>\n",
       "      <td>26.0</td>\n",
       "      <td>debt_consolidation</td>\n",
       "      <td>MA</td>\n",
       "      <td>w</td>\n",
       "      <td>Individual</td>\n",
       "      <td>0.0</td>\n",
       "      <td>0.0</td>\n",
       "      <td>16000.0</td>\n",
       "      <td>7.0</td>\n",
       "      <td>9.0</td>\n",
       "    </tr>\n",
       "    <tr>\n",
       "      <th>2</th>\n",
       "      <td>Front Office</td>\n",
       "      <td>7.0</td>\n",
       "      <td>44.9</td>\n",
       "      <td>8.88</td>\n",
       "      <td>Not Verified</td>\n",
       "      <td>46350.0</td>\n",
       "      <td>MORTGAGE</td>\n",
       "      <td>4.0</td>\n",
       "      <td>C</td>\n",
       "      <td>36.0</td>\n",
       "      <td>...</td>\n",
       "      <td>27.0</td>\n",
       "      <td>home_improvement</td>\n",
       "      <td>MA</td>\n",
       "      <td>w</td>\n",
       "      <td>Individual</td>\n",
       "      <td>0.0</td>\n",
       "      <td>0.0</td>\n",
       "      <td>6025.0</td>\n",
       "      <td>2.0</td>\n",
       "      <td>11.0</td>\n",
       "    </tr>\n",
       "    <tr>\n",
       "      <th>3</th>\n",
       "      <td>Manager</td>\n",
       "      <td>10.0</td>\n",
       "      <td>18.7</td>\n",
       "      <td>27.06</td>\n",
       "      <td>Source Verified</td>\n",
       "      <td>44000.0</td>\n",
       "      <td>RENT</td>\n",
       "      <td>1.0</td>\n",
       "      <td>B</td>\n",
       "      <td>36.0</td>\n",
       "      <td>...</td>\n",
       "      <td>19.0</td>\n",
       "      <td>car</td>\n",
       "      <td>CA</td>\n",
       "      <td>w</td>\n",
       "      <td>Individual</td>\n",
       "      <td>0.0</td>\n",
       "      <td>0.0</td>\n",
       "      <td>20400.0</td>\n",
       "      <td>0.0</td>\n",
       "      <td>15.0</td>\n",
       "    </tr>\n",
       "    <tr>\n",
       "      <th>4</th>\n",
       "      <td>Paramedic</td>\n",
       "      <td>10.0</td>\n",
       "      <td>88.0</td>\n",
       "      <td>6.79</td>\n",
       "      <td>Source Verified</td>\n",
       "      <td>85000.0</td>\n",
       "      <td>MORTGAGE</td>\n",
       "      <td>5.0</td>\n",
       "      <td>B</td>\n",
       "      <td>36.0</td>\n",
       "      <td>...</td>\n",
       "      <td>24.0</td>\n",
       "      <td>debt_consolidation</td>\n",
       "      <td>MN</td>\n",
       "      <td>w</td>\n",
       "      <td>Individual</td>\n",
       "      <td>0.0</td>\n",
       "      <td>0.0</td>\n",
       "      <td>13000.0</td>\n",
       "      <td>1.0</td>\n",
       "      <td>5.0</td>\n",
       "    </tr>\n",
       "  </tbody>\n",
       "</table>\n",
       "<p>5 rows × 23 columns</p>\n",
       "</div>"
      ],
      "text/plain": [
       "      emp_title  emp_length  revol_util    dti verification_status  \\\n",
       "0           NaN         NaN        55.1  21.61        Not Verified   \n",
       "1       teacher        10.0       105.8  25.61        Not Verified   \n",
       "2  Front Office         7.0        44.9   8.88        Not Verified   \n",
       "3       Manager        10.0        18.7  27.06     Source Verified   \n",
       "4     Paramedic        10.0        88.0   6.79     Source Verified   \n",
       "\n",
       "   annual_inc home_ownership  sub_grade grade  term  ...  total_acc  \\\n",
       "0     10000.0            OWN        1.0     C  36.0  ...        6.0   \n",
       "1     94000.0       MORTGAGE        1.0     C  60.0  ...       26.0   \n",
       "2     46350.0       MORTGAGE        4.0     C  36.0  ...       27.0   \n",
       "3     44000.0           RENT        1.0     B  36.0  ...       19.0   \n",
       "4     85000.0       MORTGAGE        5.0     B  36.0  ...       24.0   \n",
       "\n",
       "              purpose addr_state  initial_list_status application_type  \\\n",
       "0         credit_card         NY                    w       Individual   \n",
       "1  debt_consolidation         MA                    w       Individual   \n",
       "2    home_improvement         MA                    w       Individual   \n",
       "3                 car         CA                    w       Individual   \n",
       "4  debt_consolidation         MN                    w       Individual   \n",
       "\n",
       "  pub_rec pub_rec_bankruptcies loan_amnt  mort_acc  open_acc  \n",
       "0     0.0                  0.0    2300.0       0.0       4.0  \n",
       "1     0.0                  0.0   16000.0       7.0       9.0  \n",
       "2     0.0                  0.0    6025.0       2.0      11.0  \n",
       "3     0.0                  0.0   20400.0       0.0      15.0  \n",
       "4     0.0                  0.0   13000.0       1.0       5.0  \n",
       "\n",
       "[5 rows x 23 columns]"
      ]
     },
     "execution_count": 2,
     "metadata": {},
     "output_type": "execute_result"
    }
   ],
   "source": [
    "df = pd.read_csv('pd_data_initial_preprocessing.csv',\n",
    "                 usecols=['loan_amnt', 'term', 'int_rate', 'installment', 'grade', 'sub_grade',\n",
    "                          'emp_title', 'emp_length', 'home_ownership', 'annual_inc',\n",
    "                          'verification_status', 'loan_status', 'purpose',\"addr_state\",\n",
    "                          'dti',  'open_acc', 'pub_rec',\n",
    "                          'revol_util', 'total_acc', 'initial_list_status', 'application_type',\n",
    "                          'mort_acc', 'pub_rec_bankruptcies'])\n",
    "df.head()"
   ]
  },
  {
   "cell_type": "code",
   "execution_count": 3,
   "metadata": {
    "colab": {
     "base_uri": "https://localhost:8080/"
    },
    "executionInfo": {
     "elapsed": 5,
     "status": "ok",
     "timestamp": 1650294185989,
     "user": {
      "displayName": "Maria Garcia",
      "userId": "13829015885059236312"
     },
     "user_tz": -120
    },
    "id": "3isyT8epbAx1",
    "outputId": "9a19e213-b064-48f2-b5eb-c17c9506e1f6"
   },
   "outputs": [
    {
     "data": {
      "text/plain": [
       "(884884, 23)"
      ]
     },
     "execution_count": 3,
     "metadata": {},
     "output_type": "execute_result"
    }
   ],
   "source": [
    "df.shape"
   ]
  },
  {
   "cell_type": "markdown",
   "metadata": {
    "id": "p4qyG85CbAx2"
   },
   "source": [
    "Vamos a ver de qué tipo es cada variable:"
   ]
  },
  {
   "cell_type": "code",
   "execution_count": 4,
   "metadata": {
    "colab": {
     "base_uri": "https://localhost:8080/"
    },
    "executionInfo": {
     "elapsed": 532,
     "status": "ok",
     "timestamp": 1650294186518,
     "user": {
      "displayName": "Maria Garcia",
      "userId": "13829015885059236312"
     },
     "user_tz": -120
    },
    "id": "Qrj-Al0BbAx2",
    "outputId": "37c8c5e2-6393-442e-c548-72e7c1a8bdf3"
   },
   "outputs": [
    {
     "name": "stdout",
     "output_type": "stream",
     "text": [
      "<class 'pandas.core.frame.DataFrame'>\n",
      "RangeIndex: 884884 entries, 0 to 884883\n",
      "Data columns (total 23 columns):\n",
      " #   Column                Non-Null Count   Dtype  \n",
      "---  ------                --------------   -----  \n",
      " 0   emp_title             832183 non-null  object \n",
      " 1   emp_length            833683 non-null  float64\n",
      " 2   revol_util            884387 non-null  float64\n",
      " 3   dti                   884615 non-null  float64\n",
      " 4   verification_status   884876 non-null  object \n",
      " 5   annual_inc            884876 non-null  float64\n",
      " 6   home_ownership        884876 non-null  object \n",
      " 7   sub_grade             884876 non-null  float64\n",
      " 8   grade                 884876 non-null  object \n",
      " 9   term                  884876 non-null  float64\n",
      " 10  int_rate              884876 non-null  float64\n",
      " 11  installment           884876 non-null  float64\n",
      " 12  loan_status           884876 non-null  object \n",
      " 13  total_acc             884876 non-null  float64\n",
      " 14  purpose               884876 non-null  object \n",
      " 15  addr_state            884876 non-null  object \n",
      " 16  initial_list_status   884876 non-null  object \n",
      " 17  application_type      884876 non-null  object \n",
      " 18  pub_rec               884876 non-null  float64\n",
      " 19  pub_rec_bankruptcies  884876 non-null  float64\n",
      " 20  loan_amnt             884876 non-null  float64\n",
      " 21  mort_acc              884876 non-null  float64\n",
      " 22  open_acc              884876 non-null  float64\n",
      "dtypes: float64(14), object(9)\n",
      "memory usage: 155.3+ MB\n"
     ]
    }
   ],
   "source": [
    "df.info()"
   ]
  },
  {
   "cell_type": "markdown",
   "metadata": {
    "id": "5xqeTl7zbAx2"
   },
   "source": [
    "# <span style=\"color:Green\">Análisis descriptivo de los datos</span><a id=\"3\"></a> <br>"
   ]
  },
  {
   "cell_type": "markdown",
   "metadata": {
    "id": "q4--0qt2bAx2"
   },
   "source": [
    "Como hemos observado antes en la salida de `df.info()` hay variables con un gran numero de valores missing. También observamos que hay entradas que tienen un missing en cada columna. Como se trata de un número reducido (8) y no reprrsenta una gran pérdida de información procedmeos a eliminarlas."
   ]
  },
  {
   "cell_type": "code",
   "execution_count": 5,
   "metadata": {
    "colab": {
     "base_uri": "https://localhost:8080/"
    },
    "executionInfo": {
     "elapsed": 10,
     "status": "ok",
     "timestamp": 1650294186519,
     "user": {
      "displayName": "Maria Garcia",
      "userId": "13829015885059236312"
     },
     "user_tz": -120
    },
    "id": "w1kPbJ1nbAx3",
    "outputId": "0c7fb7db-8be5-4453-8a33-38e40167088c"
   },
   "outputs": [
    {
     "data": {
      "text/plain": [
       "emp_title               52701\n",
       "emp_length              51201\n",
       "revol_util                497\n",
       "dti                       269\n",
       "verification_status         8\n",
       "annual_inc                  8\n",
       "home_ownership              8\n",
       "sub_grade                   8\n",
       "grade                       8\n",
       "term                        8\n",
       "int_rate                    8\n",
       "installment                 8\n",
       "loan_status                 8\n",
       "total_acc                   8\n",
       "purpose                     8\n",
       "addr_state                  8\n",
       "initial_list_status         8\n",
       "application_type            8\n",
       "pub_rec                     8\n",
       "pub_rec_bankruptcies        8\n",
       "loan_amnt                   8\n",
       "mort_acc                    8\n",
       "open_acc                    8\n",
       "dtype: int64"
      ]
     },
     "execution_count": 5,
     "metadata": {},
     "output_type": "execute_result"
    }
   ],
   "source": [
    "df.isnull().sum()"
   ]
  },
  {
   "cell_type": "code",
   "execution_count": 6,
   "metadata": {
    "colab": {
     "base_uri": "https://localhost:8080/",
     "height": 394
    },
    "executionInfo": {
     "elapsed": 8,
     "status": "ok",
     "timestamp": 1650294186519,
     "user": {
      "displayName": "Maria Garcia",
      "userId": "13829015885059236312"
     },
     "user_tz": -120
    },
    "id": "ycpt2zzibAx3",
    "outputId": "2cc092e1-6d4e-4d41-fdbf-f91e06f9ab76"
   },
   "outputs": [
    {
     "data": {
      "text/html": [
       "<div>\n",
       "<style scoped>\n",
       "    .dataframe tbody tr th:only-of-type {\n",
       "        vertical-align: middle;\n",
       "    }\n",
       "\n",
       "    .dataframe tbody tr th {\n",
       "        vertical-align: top;\n",
       "    }\n",
       "\n",
       "    .dataframe thead th {\n",
       "        text-align: right;\n",
       "    }\n",
       "</style>\n",
       "<table border=\"1\" class=\"dataframe\">\n",
       "  <thead>\n",
       "    <tr style=\"text-align: right;\">\n",
       "      <th></th>\n",
       "      <th>emp_title</th>\n",
       "      <th>emp_length</th>\n",
       "      <th>revol_util</th>\n",
       "      <th>dti</th>\n",
       "      <th>verification_status</th>\n",
       "      <th>annual_inc</th>\n",
       "      <th>home_ownership</th>\n",
       "      <th>sub_grade</th>\n",
       "      <th>grade</th>\n",
       "      <th>term</th>\n",
       "      <th>...</th>\n",
       "      <th>total_acc</th>\n",
       "      <th>purpose</th>\n",
       "      <th>addr_state</th>\n",
       "      <th>initial_list_status</th>\n",
       "      <th>application_type</th>\n",
       "      <th>pub_rec</th>\n",
       "      <th>pub_rec_bankruptcies</th>\n",
       "      <th>loan_amnt</th>\n",
       "      <th>mort_acc</th>\n",
       "      <th>open_acc</th>\n",
       "    </tr>\n",
       "  </thead>\n",
       "  <tbody>\n",
       "    <tr>\n",
       "      <th>105451</th>\n",
       "      <td>NaN</td>\n",
       "      <td>NaN</td>\n",
       "      <td>NaN</td>\n",
       "      <td>NaN</td>\n",
       "      <td>NaN</td>\n",
       "      <td>NaN</td>\n",
       "      <td>NaN</td>\n",
       "      <td>NaN</td>\n",
       "      <td>NaN</td>\n",
       "      <td>NaN</td>\n",
       "      <td>...</td>\n",
       "      <td>NaN</td>\n",
       "      <td>NaN</td>\n",
       "      <td>NaN</td>\n",
       "      <td>NaN</td>\n",
       "      <td>NaN</td>\n",
       "      <td>NaN</td>\n",
       "      <td>NaN</td>\n",
       "      <td>NaN</td>\n",
       "      <td>NaN</td>\n",
       "      <td>NaN</td>\n",
       "    </tr>\n",
       "    <tr>\n",
       "      <th>105452</th>\n",
       "      <td>NaN</td>\n",
       "      <td>NaN</td>\n",
       "      <td>NaN</td>\n",
       "      <td>NaN</td>\n",
       "      <td>NaN</td>\n",
       "      <td>NaN</td>\n",
       "      <td>NaN</td>\n",
       "      <td>NaN</td>\n",
       "      <td>NaN</td>\n",
       "      <td>NaN</td>\n",
       "      <td>...</td>\n",
       "      <td>NaN</td>\n",
       "      <td>NaN</td>\n",
       "      <td>NaN</td>\n",
       "      <td>NaN</td>\n",
       "      <td>NaN</td>\n",
       "      <td>NaN</td>\n",
       "      <td>NaN</td>\n",
       "      <td>NaN</td>\n",
       "      <td>NaN</td>\n",
       "      <td>NaN</td>\n",
       "    </tr>\n",
       "    <tr>\n",
       "      <th>228154</th>\n",
       "      <td>NaN</td>\n",
       "      <td>NaN</td>\n",
       "      <td>NaN</td>\n",
       "      <td>NaN</td>\n",
       "      <td>NaN</td>\n",
       "      <td>NaN</td>\n",
       "      <td>NaN</td>\n",
       "      <td>NaN</td>\n",
       "      <td>NaN</td>\n",
       "      <td>NaN</td>\n",
       "      <td>...</td>\n",
       "      <td>NaN</td>\n",
       "      <td>NaN</td>\n",
       "      <td>NaN</td>\n",
       "      <td>NaN</td>\n",
       "      <td>NaN</td>\n",
       "      <td>NaN</td>\n",
       "      <td>NaN</td>\n",
       "      <td>NaN</td>\n",
       "      <td>NaN</td>\n",
       "      <td>NaN</td>\n",
       "    </tr>\n",
       "    <tr>\n",
       "      <th>228155</th>\n",
       "      <td>NaN</td>\n",
       "      <td>NaN</td>\n",
       "      <td>NaN</td>\n",
       "      <td>NaN</td>\n",
       "      <td>NaN</td>\n",
       "      <td>NaN</td>\n",
       "      <td>NaN</td>\n",
       "      <td>NaN</td>\n",
       "      <td>NaN</td>\n",
       "      <td>NaN</td>\n",
       "      <td>...</td>\n",
       "      <td>NaN</td>\n",
       "      <td>NaN</td>\n",
       "      <td>NaN</td>\n",
       "      <td>NaN</td>\n",
       "      <td>NaN</td>\n",
       "      <td>NaN</td>\n",
       "      <td>NaN</td>\n",
       "      <td>NaN</td>\n",
       "      <td>NaN</td>\n",
       "      <td>NaN</td>\n",
       "    </tr>\n",
       "    <tr>\n",
       "      <th>463785</th>\n",
       "      <td>NaN</td>\n",
       "      <td>NaN</td>\n",
       "      <td>NaN</td>\n",
       "      <td>NaN</td>\n",
       "      <td>NaN</td>\n",
       "      <td>NaN</td>\n",
       "      <td>NaN</td>\n",
       "      <td>NaN</td>\n",
       "      <td>NaN</td>\n",
       "      <td>NaN</td>\n",
       "      <td>...</td>\n",
       "      <td>NaN</td>\n",
       "      <td>NaN</td>\n",
       "      <td>NaN</td>\n",
       "      <td>NaN</td>\n",
       "      <td>NaN</td>\n",
       "      <td>NaN</td>\n",
       "      <td>NaN</td>\n",
       "      <td>NaN</td>\n",
       "      <td>NaN</td>\n",
       "      <td>NaN</td>\n",
       "    </tr>\n",
       "    <tr>\n",
       "      <th>463786</th>\n",
       "      <td>NaN</td>\n",
       "      <td>NaN</td>\n",
       "      <td>NaN</td>\n",
       "      <td>NaN</td>\n",
       "      <td>NaN</td>\n",
       "      <td>NaN</td>\n",
       "      <td>NaN</td>\n",
       "      <td>NaN</td>\n",
       "      <td>NaN</td>\n",
       "      <td>NaN</td>\n",
       "      <td>...</td>\n",
       "      <td>NaN</td>\n",
       "      <td>NaN</td>\n",
       "      <td>NaN</td>\n",
       "      <td>NaN</td>\n",
       "      <td>NaN</td>\n",
       "      <td>NaN</td>\n",
       "      <td>NaN</td>\n",
       "      <td>NaN</td>\n",
       "      <td>NaN</td>\n",
       "      <td>NaN</td>\n",
       "    </tr>\n",
       "    <tr>\n",
       "      <th>884882</th>\n",
       "      <td>NaN</td>\n",
       "      <td>NaN</td>\n",
       "      <td>NaN</td>\n",
       "      <td>NaN</td>\n",
       "      <td>NaN</td>\n",
       "      <td>NaN</td>\n",
       "      <td>NaN</td>\n",
       "      <td>NaN</td>\n",
       "      <td>NaN</td>\n",
       "      <td>NaN</td>\n",
       "      <td>...</td>\n",
       "      <td>NaN</td>\n",
       "      <td>NaN</td>\n",
       "      <td>NaN</td>\n",
       "      <td>NaN</td>\n",
       "      <td>NaN</td>\n",
       "      <td>NaN</td>\n",
       "      <td>NaN</td>\n",
       "      <td>NaN</td>\n",
       "      <td>NaN</td>\n",
       "      <td>NaN</td>\n",
       "    </tr>\n",
       "    <tr>\n",
       "      <th>884883</th>\n",
       "      <td>NaN</td>\n",
       "      <td>NaN</td>\n",
       "      <td>NaN</td>\n",
       "      <td>NaN</td>\n",
       "      <td>NaN</td>\n",
       "      <td>NaN</td>\n",
       "      <td>NaN</td>\n",
       "      <td>NaN</td>\n",
       "      <td>NaN</td>\n",
       "      <td>NaN</td>\n",
       "      <td>...</td>\n",
       "      <td>NaN</td>\n",
       "      <td>NaN</td>\n",
       "      <td>NaN</td>\n",
       "      <td>NaN</td>\n",
       "      <td>NaN</td>\n",
       "      <td>NaN</td>\n",
       "      <td>NaN</td>\n",
       "      <td>NaN</td>\n",
       "      <td>NaN</td>\n",
       "      <td>NaN</td>\n",
       "    </tr>\n",
       "  </tbody>\n",
       "</table>\n",
       "<p>8 rows × 23 columns</p>\n",
       "</div>"
      ],
      "text/plain": [
       "       emp_title  emp_length  revol_util  dti verification_status  annual_inc  \\\n",
       "105451       NaN         NaN         NaN  NaN                 NaN         NaN   \n",
       "105452       NaN         NaN         NaN  NaN                 NaN         NaN   \n",
       "228154       NaN         NaN         NaN  NaN                 NaN         NaN   \n",
       "228155       NaN         NaN         NaN  NaN                 NaN         NaN   \n",
       "463785       NaN         NaN         NaN  NaN                 NaN         NaN   \n",
       "463786       NaN         NaN         NaN  NaN                 NaN         NaN   \n",
       "884882       NaN         NaN         NaN  NaN                 NaN         NaN   \n",
       "884883       NaN         NaN         NaN  NaN                 NaN         NaN   \n",
       "\n",
       "       home_ownership  sub_grade grade  term  ...  total_acc  purpose  \\\n",
       "105451            NaN        NaN   NaN   NaN  ...        NaN      NaN   \n",
       "105452            NaN        NaN   NaN   NaN  ...        NaN      NaN   \n",
       "228154            NaN        NaN   NaN   NaN  ...        NaN      NaN   \n",
       "228155            NaN        NaN   NaN   NaN  ...        NaN      NaN   \n",
       "463785            NaN        NaN   NaN   NaN  ...        NaN      NaN   \n",
       "463786            NaN        NaN   NaN   NaN  ...        NaN      NaN   \n",
       "884882            NaN        NaN   NaN   NaN  ...        NaN      NaN   \n",
       "884883            NaN        NaN   NaN   NaN  ...        NaN      NaN   \n",
       "\n",
       "       addr_state  initial_list_status application_type pub_rec  \\\n",
       "105451        NaN                  NaN              NaN     NaN   \n",
       "105452        NaN                  NaN              NaN     NaN   \n",
       "228154        NaN                  NaN              NaN     NaN   \n",
       "228155        NaN                  NaN              NaN     NaN   \n",
       "463785        NaN                  NaN              NaN     NaN   \n",
       "463786        NaN                  NaN              NaN     NaN   \n",
       "884882        NaN                  NaN              NaN     NaN   \n",
       "884883        NaN                  NaN              NaN     NaN   \n",
       "\n",
       "       pub_rec_bankruptcies loan_amnt  mort_acc  open_acc  \n",
       "105451                  NaN       NaN       NaN       NaN  \n",
       "105452                  NaN       NaN       NaN       NaN  \n",
       "228154                  NaN       NaN       NaN       NaN  \n",
       "228155                  NaN       NaN       NaN       NaN  \n",
       "463785                  NaN       NaN       NaN       NaN  \n",
       "463786                  NaN       NaN       NaN       NaN  \n",
       "884882                  NaN       NaN       NaN       NaN  \n",
       "884883                  NaN       NaN       NaN       NaN  \n",
       "\n",
       "[8 rows x 23 columns]"
      ]
     },
     "execution_count": 6,
     "metadata": {},
     "output_type": "execute_result"
    }
   ],
   "source": [
    "df[df['grade'].isna()]"
   ]
  },
  {
   "cell_type": "markdown",
   "metadata": {
    "id": "M5yMcoPhbAx3"
   },
   "source": [
    "Observamos que las 8 observaciones que tienen NaN en alguna de las casillas y en grade son las mismas, \n",
    "procedemos a eliminarlas."
   ]
  },
  {
   "cell_type": "code",
   "execution_count": 7,
   "metadata": {
    "executionInfo": {
     "elapsed": 249,
     "status": "ok",
     "timestamp": 1650294186761,
     "user": {
      "displayName": "Maria Garcia",
      "userId": "13829015885059236312"
     },
     "user_tz": -120
    },
    "id": "1OnXbcyNbAx4"
   },
   "outputs": [],
   "source": [
    "df = df[df['grade'].notna()]"
   ]
  },
  {
   "cell_type": "markdown",
   "metadata": {
    "id": "MckvzGaCbAx4"
   },
   "source": [
    "También vemos que la variable _grade_ y la variable _subgrade_ nos aportan la misma información. Procedemos a eliminar _grade_."
   ]
  },
  {
   "cell_type": "code",
   "execution_count": 8,
   "metadata": {
    "executionInfo": {
     "elapsed": 541,
     "status": "ok",
     "timestamp": 1650294187301,
     "user": {
      "displayName": "Maria Garcia",
      "userId": "13829015885059236312"
     },
     "user_tz": -120
    },
    "id": "o7m6skycbAx4"
   },
   "outputs": [],
   "source": [
    "df.drop(\"grade\",axis =1, inplace = True) #la eliminamos porque sub_grade nos aporta lo mismo"
   ]
  },
  {
   "cell_type": "markdown",
   "metadata": {
    "id": "LF4XEc3obAx4"
   },
   "source": [
    "Vamos a ver cómo de distribuyen los missings en el resto de variables:"
   ]
  },
  {
   "cell_type": "code",
   "execution_count": 9,
   "metadata": {
    "colab": {
     "base_uri": "https://localhost:8080/",
     "height": 546
    },
    "executionInfo": {
     "elapsed": 323,
     "status": "ok",
     "timestamp": 1650294187623,
     "user": {
      "displayName": "Maria Garcia",
      "userId": "13829015885059236312"
     },
     "user_tz": -120
    },
    "id": "yYWl6YUDbAx5",
    "outputId": "3dc5c49c-ba3e-446c-c8b3-19b969e2bbd4"
   },
   "outputs": [
    {
     "data": {
      "image/png": "[encoded data removed]",
      "text/plain": [
       "<Figure size 720x504 with 1 Axes>"
      ]
     },
     "metadata": {
      "needs_background": "light"
     },
     "output_type": "display_data"
    }
   ],
   "source": [
    "((df.isnull().sum()/len(df))*100).plot(kind = \"bar\", figsize = (10,7))\n",
    "plt.title(\"Percent of null values\",fontsize= 15)\n",
    "plt.show()"
   ]
  },
  {
   "cell_type": "code",
   "execution_count": 10,
   "metadata": {
    "colab": {
     "base_uri": "https://localhost:8080/",
     "height": 300
    },
    "executionInfo": {
     "elapsed": 1528,
     "status": "ok",
     "timestamp": 1650294189142,
     "user": {
      "displayName": "Maria Garcia",
      "userId": "13829015885059236312"
     },
     "user_tz": -120
    },
    "id": "-2EW5hnHbAx5",
    "outputId": "7b9d7ffb-f198-4d7f-c732-253b29852007"
   },
   "outputs": [
    {
     "data": {
      "text/html": [
       "<div>\n",
       "<style scoped>\n",
       "    .dataframe tbody tr th:only-of-type {\n",
       "        vertical-align: middle;\n",
       "    }\n",
       "\n",
       "    .dataframe tbody tr th {\n",
       "        vertical-align: top;\n",
       "    }\n",
       "\n",
       "    .dataframe thead th {\n",
       "        text-align: right;\n",
       "    }\n",
       "</style>\n",
       "<table border=\"1\" class=\"dataframe\">\n",
       "  <thead>\n",
       "    <tr style=\"text-align: right;\">\n",
       "      <th></th>\n",
       "      <th>count</th>\n",
       "      <th>unique</th>\n",
       "      <th>top</th>\n",
       "      <th>freq</th>\n",
       "    </tr>\n",
       "  </thead>\n",
       "  <tbody>\n",
       "    <tr>\n",
       "      <th>emp_title</th>\n",
       "      <td>832183</td>\n",
       "      <td>214509</td>\n",
       "      <td>Teacher</td>\n",
       "      <td>17113</td>\n",
       "    </tr>\n",
       "    <tr>\n",
       "      <th>verification_status</th>\n",
       "      <td>884876</td>\n",
       "      <td>3</td>\n",
       "      <td>Source Verified</td>\n",
       "      <td>363463</td>\n",
       "    </tr>\n",
       "    <tr>\n",
       "      <th>home_ownership</th>\n",
       "      <td>884876</td>\n",
       "      <td>5</td>\n",
       "      <td>MORTGAGE</td>\n",
       "      <td>439600</td>\n",
       "    </tr>\n",
       "    <tr>\n",
       "      <th>loan_status</th>\n",
       "      <td>884876</td>\n",
       "      <td>7</td>\n",
       "      <td>Current</td>\n",
       "      <td>422685</td>\n",
       "    </tr>\n",
       "    <tr>\n",
       "      <th>purpose</th>\n",
       "      <td>884876</td>\n",
       "      <td>14</td>\n",
       "      <td>debt_consolidation</td>\n",
       "      <td>520846</td>\n",
       "    </tr>\n",
       "    <tr>\n",
       "      <th>addr_state</th>\n",
       "      <td>884876</td>\n",
       "      <td>51</td>\n",
       "      <td>CA</td>\n",
       "      <td>121479</td>\n",
       "    </tr>\n",
       "    <tr>\n",
       "      <th>initial_list_status</th>\n",
       "      <td>884876</td>\n",
       "      <td>2</td>\n",
       "      <td>w</td>\n",
       "      <td>568999</td>\n",
       "    </tr>\n",
       "    <tr>\n",
       "      <th>application_type</th>\n",
       "      <td>884876</td>\n",
       "      <td>2</td>\n",
       "      <td>Individual</td>\n",
       "      <td>863558</td>\n",
       "    </tr>\n",
       "  </tbody>\n",
       "</table>\n",
       "</div>"
      ],
      "text/plain": [
       "                      count  unique                 top    freq\n",
       "emp_title            832183  214509             Teacher   17113\n",
       "verification_status  884876       3     Source Verified  363463\n",
       "home_ownership       884876       5            MORTGAGE  439600\n",
       "loan_status          884876       7             Current  422685\n",
       "purpose              884876      14  debt_consolidation  520846\n",
       "addr_state           884876      51                  CA  121479\n",
       "initial_list_status  884876       2                   w  568999\n",
       "application_type     884876       2          Individual  863558"
      ]
     },
     "execution_count": 10,
     "metadata": {},
     "output_type": "execute_result"
    }
   ],
   "source": [
    "df.describe( include= [\"object\"]).T"
   ]
  },
  {
   "cell_type": "markdown",
   "metadata": {
    "id": "3mYzDwCtbAx5"
   },
   "source": [
    "Las siguientes variables con mayor número de missings son `emp_title`,`emp_lenght`,`revol_util` y `dti`.  Vemos que `emp_title` toma muchos valores diferentes (214509) por lo que no interesaría imputarlos ya que no sería fiable. Procedemos a eliminarla:"
   ]
  },
  {
   "cell_type": "code",
   "execution_count": 11,
   "metadata": {
    "colab": {
     "base_uri": "https://localhost:8080/"
    },
    "executionInfo": {
     "elapsed": 5,
     "status": "ok",
     "timestamp": 1650294189142,
     "user": {
      "displayName": "Maria Garcia",
      "userId": "13829015885059236312"
     },
     "user_tz": -120
    },
    "id": "lJHoPLqfbAx6",
    "outputId": "245137a1-0003-460d-aaa9-2014174f66fd"
   },
   "outputs": [
    {
     "name": "stderr",
     "output_type": "stream",
     "text": [
      "/var/folders/85/nm3wzltx5fl5nxsmlqs6jj6w0000gn/T/ipykernel_73939/2613084789.py:1: FutureWarning: In a future version of pandas all arguments of DataFrame.drop except for the argument 'labels' will be keyword-only.\n",
      "  df.drop(['emp_title'], 1, inplace = True)\n"
     ]
    }
   ],
   "source": [
    "df.drop(['emp_title'], 1, inplace = True)"
   ]
  },
  {
   "cell_type": "markdown",
   "metadata": {
    "id": "ivZtTEYibAx6"
   },
   "source": [
    "Vamos a ver como se distribuyen los diferentes valores de la variable objetivo:"
   ]
  },
  {
   "cell_type": "code",
   "execution_count": 12,
   "metadata": {
    "colab": {
     "base_uri": "https://localhost:8080/"
    },
    "executionInfo": {
     "elapsed": 5,
     "status": "ok",
     "timestamp": 1650294189143,
     "user": {
      "displayName": "Maria Garcia",
      "userId": "13829015885059236312"
     },
     "user_tz": -120
    },
    "id": "R1Cw82P4bAx6",
    "outputId": "c54ed196-5190-452e-d3ce-d177f8310d8b"
   },
   "outputs": [
    {
     "data": {
      "text/plain": [
       "Current               422685\n",
       "Fully Paid            345520\n",
       "Charged Off            97047\n",
       "Late (31-120 days)     11168\n",
       "In Grace Period         5507\n",
       "Late (16-30 days)       2915\n",
       "Default                   34\n",
       "Name: loan_status, dtype: int64"
      ]
     },
     "execution_count": 12,
     "metadata": {},
     "output_type": "execute_result"
    }
   ],
   "source": [
    "df[\"loan_status\"].value_counts(dropna = False)"
   ]
  },
  {
   "cell_type": "markdown",
   "metadata": {
    "id": "bxK2GWdjbAx6"
   },
   "source": [
    "#### Codificación de la variable objetivo:"
   ]
  },
  {
   "cell_type": "markdown",
   "metadata": {
    "id": "FUpbRc4MbAx7"
   },
   "source": [
    "Vamos a codificar la variable objetivo con los valores _pagado_ e _impago_. "
   ]
  },
  {
   "cell_type": "code",
   "execution_count": 13,
   "metadata": {
    "executionInfo": {
     "elapsed": 533,
     "status": "ok",
     "timestamp": 1650294189673,
     "user": {
      "displayName": "Maria Garcia",
      "userId": "13829015885059236312"
     },
     "user_tz": -120
    },
    "id": "iYP5Ro3DbAx7"
   },
   "outputs": [],
   "source": [
    "df['loan_status'] = df.loan_status.map({'Current': 'Pagado'\n",
    "                                        , 'Fully Paid':'Pagado'\n",
    "                                        , 'Charged Off': 'Impago'\n",
    "                                        , 'Late (31-120 days)': 'Impago'\n",
    "                                        , 'In Grace Period': 'Pagado'\n",
    "                                        , 'Late (16-30 days)': 'Impago'\n",
    "                                        , 'Default': 'Impago'})"
   ]
  },
  {
   "cell_type": "code",
   "execution_count": 14,
   "metadata": {
    "colab": {
     "base_uri": "https://localhost:8080/"
    },
    "executionInfo": {
     "elapsed": 8,
     "status": "ok",
     "timestamp": 1650294189674,
     "user": {
      "displayName": "Maria Garcia",
      "userId": "13829015885059236312"
     },
     "user_tz": -120
    },
    "id": "qG_b3DtBbAx7",
    "outputId": "0f7c46d8-f283-4f75-f2e4-b67fa4ffc784"
   },
   "outputs": [
    {
     "data": {
      "text/plain": [
       "Pagado    773712\n",
       "Impago    111164\n",
       "Name: loan_status, dtype: int64"
      ]
     },
     "execution_count": 14,
     "metadata": {},
     "output_type": "execute_result"
    }
   ],
   "source": [
    "df[\"loan_status\"].value_counts(dropna = False)"
   ]
  },
  {
   "cell_type": "code",
   "execution_count": 15,
   "metadata": {
    "colab": {
     "base_uri": "https://localhost:8080/",
     "height": 364
    },
    "executionInfo": {
     "elapsed": 7,
     "status": "ok",
     "timestamp": 1650294189674,
     "user": {
      "displayName": "Maria Garcia",
      "userId": "13829015885059236312"
     },
     "user_tz": -120
    },
    "id": "pg7hlnlpbAx7",
    "outputId": "87c489b4-20a4-4721-9d1e-fa44a6dc5516"
   },
   "outputs": [
    {
     "data": {
      "text/plain": [
       "<AxesSubplot:>"
      ]
     },
     "execution_count": 15,
     "metadata": {},
     "output_type": "execute_result"
    },
    {
     "data": {
      "image/png": "[encoded data removed]",
      "text/plain": [
       "<Figure size 720x360 with 1 Axes>"
      ]
     },
     "metadata": {
      "needs_background": "light"
     },
     "output_type": "display_data"
    }
   ],
   "source": [
    "df[\"loan_status\"].value_counts(dropna = False).plot(kind = \"bar\",figsize = (10,5))"
   ]
  },
  {
   "cell_type": "markdown",
   "metadata": {
    "id": "OqMqGgACbAx8"
   },
   "source": [
    "Como podemos observar hay muchos mas pagados que impagados. Este desbalanceo será muy importante a tener en cuenta a la hora de aplicar los algoritmos sobre los datos, por ejemplo K-NN es susceptible a esta situación."
   ]
  },
  {
   "cell_type": "markdown",
   "metadata": {
    "id": "IORHXtPlbAx8"
   },
   "source": [
    "#### Matriz de correlaciones:"
   ]
  },
  {
   "cell_type": "code",
   "execution_count": 16,
   "metadata": {
    "colab": {
     "base_uri": "https://localhost:8080/",
     "height": 549
    },
    "executionInfo": {
     "elapsed": 2121,
     "status": "ok",
     "timestamp": 1650294191791,
     "user": {
      "displayName": "Maria Garcia",
      "userId": "13829015885059236312"
     },
     "user_tz": -120
    },
    "id": "Dm3qEGp-bAx8",
    "outputId": "041abbd7-49db-49fa-80be-4e428fe0e78f"
   },
   "outputs": [
    {
     "data": {
      "text/plain": [
       "<AxesSubplot:>"
      ]
     },
     "execution_count": 16,
     "metadata": {},
     "output_type": "execute_result"
    },
    {
     "data": {
      "image/png": "[encoded data removed]",
      "text/plain": [
       "<Figure size 1080x504 with 2 Axes>"
      ]
     },
     "metadata": {
      "needs_background": "light"
     },
     "output_type": "display_data"
    }
   ],
   "source": [
    "plt.figure(figsize= (15,7))\n",
    "sns.heatmap(df.corr(), vmin=1, vmax=-1, annot=True, cmap=\"coolwarm\")"
   ]
  },
  {
   "cell_type": "markdown",
   "metadata": {
    "id": "KobTl7QObAx9"
   },
   "source": [
    "Observamos que las variables que más se relacionan son `loan_amnt`y `installment` con una correlación del 0.94, `pub_rec_bankruptcies`y `pub_rec`con una correlación del 0.63 y `open_acc` y `total_acc`con una correlación del 0.71."
   ]
  },
  {
   "cell_type": "markdown",
   "metadata": {
    "id": "Mf_BcTF0bAx9"
   },
   "source": [
    "Vamos a codificar también la variable `home_ownership` para que sea más sencillo tratar sus datos:"
   ]
  },
  {
   "cell_type": "code",
   "execution_count": 17,
   "metadata": {
    "colab": {
     "base_uri": "https://localhost:8080/"
    },
    "executionInfo": {
     "elapsed": 11,
     "status": "ok",
     "timestamp": 1650294191792,
     "user": {
      "displayName": "Maria Garcia",
      "userId": "13829015885059236312"
     },
     "user_tz": -120
    },
    "id": "8l05tJ2NbAx9",
    "outputId": "41ebcc13-8297-4a74-e713-4a2ff0000d93"
   },
   "outputs": [
    {
     "data": {
      "text/plain": [
       "MORTGAGE    439600\n",
       "RENT        350505\n",
       "OWN          94752\n",
       "ANY             16\n",
       "NONE             3\n",
       "Name: home_ownership, dtype: int64"
      ]
     },
     "execution_count": 17,
     "metadata": {},
     "output_type": "execute_result"
    }
   ],
   "source": [
    "df[\"home_ownership\"].value_counts()"
   ]
  },
  {
   "cell_type": "code",
   "execution_count": 18,
   "metadata": {
    "executionInfo": {
     "elapsed": 8,
     "status": "ok",
     "timestamp": 1650294191792,
     "user": {
      "displayName": "Maria Garcia",
      "userId": "13829015885059236312"
     },
     "user_tz": -120
    },
    "id": "KsqfVzMkbAx9"
   },
   "outputs": [],
   "source": [
    "df[\"home_ownership\"]= df[\"home_ownership\"].replace([\"ANY\",\"NONE\"], \"OTHER\")"
   ]
  },
  {
   "cell_type": "markdown",
   "metadata": {
    "id": "-VZMe-fSbAx-"
   },
   "source": [
    "# <span style=\"color:Green\">Imputación de missings</span><a id=\"4\"></a> <br>"
   ]
  },
  {
   "cell_type": "markdown",
   "metadata": {
    "id": "cW2_wCldbAx-"
   },
   "source": [
    "Generalmente, si la proporción de observaciones que faltan en los datos es pequeña en relación con el número total de observaciones, simplemente podemos eliminar esas observaciones, pero en pasos previos ya hemos determinado que `dti`, `revol_util` y `emp_lenght` deben ser imputadas en lugar de eliminarlas directamente debido a su importancia.\n",
    "\n",
    "**KKN-Imputer** ayuda a imputar los valores faltantes presentes en las observaciones al encontrar los vecinos más cercanos con la matriz de distancia euclidiana lo cual es óptimo para las variables continuas `dti` y `revol_util`.\n",
    "\n",
    "Para la variable `emp_lenght` procedemos a imputar la moda debido a su simplicidad."
   ]
  },
  {
   "cell_type": "code",
   "execution_count": 19,
   "metadata": {
    "executionInfo": {
     "elapsed": 49042,
     "status": "ok",
     "timestamp": 1650294240827,
     "user": {
      "displayName": "Maria Garcia",
      "userId": "13829015885059236312"
     },
     "user_tz": -120
    },
    "id": "krXj8FbAbAx-"
   },
   "outputs": [],
   "source": [
    "temp_values = df.dti.values.reshape(-1,1)\n",
    "impute_knn = KNNImputer(n_neighbors=5)\n",
    "impute_knn.fit_transform(temp_values)\n",
    "transformed_values = impute_knn.transform(temp_values)\n",
    "df.dti = transformed_values\n",
    "\n",
    "temp_values2 = df.revol_util.values.reshape(-1,1)\n",
    "impute_knn2 = KNNImputer(n_neighbors=5)\n",
    "impute_knn2.fit_transform(temp_values2)\n",
    "transformed_values2 = impute_knn2.transform(temp_values2)\n",
    "df.revol_util = transformed_values2\n",
    "\n",
    "df[\"emp_length\"].fillna(df[\"emp_length\"].mode()[0], inplace = True)"
   ]
  },
  {
   "cell_type": "code",
   "execution_count": 20,
   "metadata": {
    "colab": {
     "base_uri": "https://localhost:8080/",
     "height": 166
    },
    "executionInfo": {
     "elapsed": 785,
     "status": "error",
     "timestamp": 1650294611605,
     "user": {
      "displayName": "Maria Garcia",
      "userId": "13829015885059236312"
     },
     "user_tz": -120
    },
    "id": "-k1gNAwLMiC2",
    "outputId": "3b2cfe12-ea46-44d8-ffa9-953936e2e4bb"
   },
   "outputs": [],
   "source": [
    "df.to_csv(r'Clean_Data.csv', index = False)"
   ]
  },
  {
   "cell_type": "markdown",
   "metadata": {},
   "source": [
    "Guardamos en un csv los datos con los missings ya importados para no tener que volver a cargarlo todo si hay algún problema"
   ]
  },
  {
   "cell_type": "code",
   "execution_count": 21,
   "metadata": {
    "executionInfo": {
     "elapsed": 9092,
     "status": "ok",
     "timestamp": 1650294627772,
     "user": {
      "displayName": "Maria Garcia",
      "userId": "13829015885059236312"
     },
     "user_tz": -120
    },
    "id": "R8uO6TA0NX4F"
   },
   "outputs": [],
   "source": [
    "df = pd.read_csv('Clean_Data.csv')"
   ]
  },
  {
   "cell_type": "markdown",
   "metadata": {
    "id": "LhjOF6hhbAx-"
   },
   "source": [
    "# <span style=\"color:Green\">Transformación de variables</span><a id=\"5\"></a> <br>"
   ]
  },
  {
   "cell_type": "markdown",
   "metadata": {},
   "source": [
    "Transformamos las variables continuas, para poder posteriormente usar los algoritmos sin problemas."
   ]
  },
  {
   "cell_type": "code",
   "execution_count": 22,
   "metadata": {
    "executionInfo": {
     "elapsed": 844,
     "status": "ok",
     "timestamp": 1650294632841,
     "user": {
      "displayName": "Maria Garcia",
      "userId": "13829015885059236312"
     },
     "user_tz": -120
    },
    "id": "eTYv__gEbAx-"
   },
   "outputs": [],
   "source": [
    "df[\"loan_status\"] = df[\"loan_status\"].map({\"Pagado\":float(0),\"Impago\":float(1)})"
   ]
  },
  {
   "cell_type": "code",
   "execution_count": 23,
   "metadata": {
    "executionInfo": {
     "elapsed": 1318,
     "status": "ok",
     "timestamp": 1650294634154,
     "user": {
      "displayName": "Maria Garcia",
      "userId": "13829015885059236312"
     },
     "user_tz": -120
    },
    "id": "ap-_X9h6bAx_"
   },
   "outputs": [],
   "source": [
    "df['verification_status'] = df.verification_status.map({'Verified': float(0), 'Source Verified': float(1), 'Not Verified': float(2)})\n",
    "df['initial_list_status'] = df.initial_list_status.map({'w': float(0), 'f': float(1)})\n",
    "df['application_type'] = df.application_type.map({'Individual': float(0), 'Joint App': float(1)})"
   ]
  },
  {
   "cell_type": "code",
   "execution_count": 24,
   "metadata": {
    "executionInfo": {
     "elapsed": 5341,
     "status": "ok",
     "timestamp": 1650294640482,
     "user": {
      "displayName": "Maria Garcia",
      "userId": "13829015885059236312"
     },
     "user_tz": -120
    },
    "id": "aeqlx8C2m5hy"
   },
   "outputs": [],
   "source": [
    "le = LabelEncoder()\n",
    "\n",
    "df['addr_state'] = le.fit_transform(df['addr_state'].astype(str))\n",
    "df['sub_grade'] = le.fit_transform(df['sub_grade'].astype(str))\n",
    "df['purpose'] = le.fit_transform(df['purpose'].astype(str))\n",
    "df['emp_length'] = le.fit_transform(df['emp_length'].astype(str))\n",
    "df['home_ownership'] = le.fit_transform(df['home_ownership'].astype(str))"
   ]
  },
  {
   "cell_type": "code",
   "execution_count": 25,
   "metadata": {},
   "outputs": [
    {
     "name": "stdout",
     "output_type": "stream",
     "text": [
      "<class 'pandas.core.frame.DataFrame'>\n",
      "RangeIndex: 884876 entries, 0 to 884875\n",
      "Data columns (total 21 columns):\n",
      " #   Column                Non-Null Count   Dtype  \n",
      "---  ------                --------------   -----  \n",
      " 0   emp_length            884876 non-null  int64  \n",
      " 1   revol_util            884876 non-null  float64\n",
      " 2   dti                   884876 non-null  float64\n",
      " 3   verification_status   884876 non-null  float64\n",
      " 4   annual_inc            884876 non-null  float64\n",
      " 5   home_ownership        884876 non-null  int64  \n",
      " 6   sub_grade             884876 non-null  int64  \n",
      " 7   term                  884876 non-null  float64\n",
      " 8   int_rate              884876 non-null  float64\n",
      " 9   installment           884876 non-null  float64\n",
      " 10  loan_status           884876 non-null  float64\n",
      " 11  total_acc             884876 non-null  float64\n",
      " 12  purpose               884876 non-null  int64  \n",
      " 13  addr_state            884876 non-null  int64  \n",
      " 14  initial_list_status   884876 non-null  float64\n",
      " 15  application_type      884876 non-null  float64\n",
      " 16  pub_rec               884876 non-null  float64\n",
      " 17  pub_rec_bankruptcies  884876 non-null  float64\n",
      " 18  loan_amnt             884876 non-null  float64\n",
      " 19  mort_acc              884876 non-null  float64\n",
      " 20  open_acc              884876 non-null  float64\n",
      "dtypes: float64(16), int64(5)\n",
      "memory usage: 141.8 MB\n"
     ]
    }
   ],
   "source": [
    "df.info()"
   ]
  },
  {
   "cell_type": "markdown",
   "metadata": {},
   "source": [
    "Como podemos observar ya no quedan tipos object, datos missing ni variables continuas. Por tanto podemos empezar a aplicar los algoritmos a los datos ya completamente preparados para aplicar estas metodologías."
   ]
  },
  {
   "cell_type": "markdown",
   "metadata": {
    "id": "N5l962wZbAyA"
   },
   "source": [
    "# <span style=\"color:Green\">Regresión logística</span><a id=\"6\"></a> <br>"
   ]
  },
  {
   "cell_type": "markdown",
   "metadata": {},
   "source": [
    "La regresión logística es uno de los algoritmos de aprendizaje automático más simples del temario, pero proporciona una gran eficiencia de entrenamiento en algunos casos, no requiere una gran potencia de cálculo e incluso podemos usarlo como modelo de referencia.\n",
    "\n",
    "A continuación prepararemos un conjunto de entrenamiento y otro de test para ejecutar el algoritmo. Para los modelos de regresión logística, los datos de entrenamiento desequilibrados afectan a la estimación de la intersección del modelo y consecuentemente esto distorsiona todas las probabilidades predichas, lo que a su vez compromete sus predicciones. Por tanto, deberemos escalar el conjunto de entrenamiento para evitar los efectos negativos del desbalance."
   ]
  },
  {
   "cell_type": "markdown",
   "metadata": {},
   "source": [
    "## <span style=\"color:Green\">Partición de los datos</span><a id=\"9\"></a> <br>"
   ]
  },
  {
   "cell_type": "code",
   "execution_count": 27,
   "metadata": {
    "colab": {
     "base_uri": "https://localhost:8080/"
    },
    "executionInfo": {
     "elapsed": 34933,
     "status": "ok",
     "timestamp": 1650295642507,
     "user": {
      "displayName": "Maria Garcia",
      "userId": "13829015885059236312"
     },
     "user_tz": -120
    },
    "id": "Qy0yj66zPcCU",
    "outputId": "5c166ca6-d9a9-4eb8-966d-f458ce5fcb5f"
   },
   "outputs": [],
   "source": [
    "X = df.drop(\"loan_status\",axis =1 )\n",
    "y= df[\"loan_status\"]\n",
    "\n",
    "# Dividimos datos y validamos nuestro modelo\n",
    "X_train, X_test, y_train, y_test = model_selection.train_test_split(X, y, test_size=0.30, random_state=0)\n",
    "\n",
    "scaler = MinMaxScaler()\n",
    "\n",
    "X_train_scaled = scaler.fit_transform(X_train)\n",
    "\n",
    "log = linear_model.LogisticRegression(max_iter=10000)\n",
    "log.fit(X_train_scaled,y_train)\n",
    "\n",
    "X_test_scaled = scaler.transform(X_test)\n",
    "y_pred = log.predict(X_test_scaled)"
   ]
  },
  {
   "cell_type": "markdown",
   "metadata": {},
   "source": [
    "## <span style=\"color:Green\">Modelo</span><a id=\"9\"></a> <br>"
   ]
  },
  {
   "cell_type": "code",
   "execution_count": 28,
   "metadata": {
    "colab": {
     "base_uri": "https://localhost:8080/"
    },
    "executionInfo": {
     "elapsed": 278949,
     "status": "ok",
     "timestamp": 1650295936699,
     "user": {
      "displayName": "Maria Garcia",
      "userId": "13829015885059236312"
     },
     "user_tz": -120
    },
    "id": "W2YCb9TmP13j",
    "outputId": "78e2f42e-c2f2-4848-b24a-2e7d3bc41f3a"
   },
   "outputs": [
    {
     "name": "stdout",
     "output_type": "stream",
     "text": [
      "Logistic Regression: 0.873724 (0.001076)\n"
     ]
    }
   ],
   "source": [
    "name = \"Logistic Regression\"\n",
    "kfold = model_selection.KFold(n_splits = 10)\n",
    "cv_results = model_selection.cross_val_score(log, X_train, y_train, cv = kfold, scoring = \"accuracy\")\n",
    "msg = \"%s: %f (%f)\" % (name, cv_results.mean(), cv_results.std())\n",
    "print(msg)"
   ]
  },
  {
   "cell_type": "markdown",
   "metadata": {
    "id": "CVPAGUz1bAyA"
   },
   "source": [
    "## <span style=\"color:RED\">Evaluación del modelo</span><a id=\"7\"></a> <br>"
   ]
  },
  {
   "cell_type": "markdown",
   "metadata": {
    "id": "7mKxCtgLTy6H"
   },
   "source": [
    "Coeficientes de la regresión:"
   ]
  },
  {
   "cell_type": "code",
   "execution_count": 29,
   "metadata": {
    "colab": {
     "base_uri": "https://localhost:8080/"
    },
    "executionInfo": {
     "elapsed": 9347,
     "status": "ok",
     "timestamp": 1650296009019,
     "user": {
      "displayName": "Maria Garcia",
      "userId": "13829015885059236312"
     },
     "user_tz": -120
    },
    "id": "Ze6VblXvQBzU",
    "outputId": "f37e37cd-e9cc-4967-8c03-609e2ab75b40"
   },
   "outputs": [
    {
     "data": {
      "text/plain": [
       "array([[ 0.06225839,  0.48116073,  6.11047826, -0.31465149, -2.67895296,\n",
       "         0.26645589, -0.05585464,  0.37247119,  2.33667997,  1.21529849,\n",
       "         1.11840125, -0.2050586 , -0.02336322,  0.26469461, -2.0971252 ,\n",
       "         1.42959939,  0.79446305, -1.00643824, -1.8216322 ,  0.17023951]])"
      ]
     },
     "execution_count": 29,
     "metadata": {},
     "output_type": "execute_result"
    }
   ],
   "source": [
    "log.fit(X_train_scaled,y_train).coef_"
   ]
  },
  {
   "cell_type": "code",
   "execution_count": 30,
   "metadata": {
    "colab": {
     "base_uri": "https://localhost:8080/"
    },
    "executionInfo": {
     "elapsed": 284,
     "status": "ok",
     "timestamp": 1650296192501,
     "user": {
      "displayName": "Maria Garcia",
      "userId": "13829015885059236312"
     },
     "user_tz": -120
    },
    "id": "RMjzHAyTP5LE",
    "outputId": "162541b4-bd53-4f11-d40d-947a5a6f05b8"
   },
   "outputs": [
    {
     "name": "stdout",
     "output_type": "stream",
     "text": [
      "0.8727242591246238\n"
     ]
    }
   ],
   "source": [
    "print(accuracy_score(y_test, y_pred))"
   ]
  },
  {
   "cell_type": "markdown",
   "metadata": {},
   "source": [
    "A partir de la matriz de confusión podemos obtener la exactitud, precisión, sensiblidad y F-score de este modelo.\n",
    "La exactitud del modelo («accuracy«) representa el porcentaje de predicciones correctas frente al total siendo un 87% un valor aceptable.\n",
    "La precisión, (“precision”) se refiere a lo cerca que está el resultado de una predicción del valor verdadero. El valor obtenido para este modelo es de un 19%. Por tanto, nuestro modelo es bastante exacto pero poco preciso.\n",
    "La sensibilidad (\"recall\") es la proporción entre los casos positivos bien clasificados por el modelo, respecto al total de positivos y por tanto representa la habilidad del modelo de detectar los casos relevantes. Un 0'2% es claramente un valor muy malo para una métrica. Por lo tanto, podemos decir que nuestro algoritmo de clasificación es poco sensible, «se le escapan» muchos positivos.\n",
    "\n",
    "La regresión logística no parece el mejor algoritmo para modelizar este problema, pero confirmaremos la hipótesis con la curva de regresión logística."
   ]
  },
  {
   "cell_type": "code",
   "execution_count": 31,
   "metadata": {
    "colab": {
     "base_uri": "https://localhost:8080/",
     "height": 419
    },
    "executionInfo": {
     "elapsed": 1734,
     "status": "ok",
     "timestamp": 1650296314990,
     "user": {
      "displayName": "Maria Garcia",
      "userId": "13829015885059236312"
     },
     "user_tz": -120
    },
    "id": "G6c6ggSHUC9g",
    "outputId": "a2593a0e-6e46-4e98-e5a5-414f286d9898"
   },
   "outputs": [
    {
     "name": "stdout",
     "output_type": "stream",
     "text": [
      "Accuracy:  0.8727242591246238\n"
     ]
    },
    {
     "name": "stderr",
     "output_type": "stream",
     "text": [
      "/opt/anaconda3/envs/alvblas/lib/python3.9/site-packages/sklearn/utils/deprecation.py:87: FutureWarning: Function plot_confusion_matrix is deprecated; Function `plot_confusion_matrix` is deprecated in 1.0 and will be removed in 1.2. Use one of the class methods: ConfusionMatrixDisplay.from_predictions or ConfusionMatrixDisplay.from_estimator.\n",
      "  warnings.warn(msg, category=FutureWarning)\n"
     ]
    },
    {
     "data": {
      "image/png": "[encoded data removed]",
      "text/plain": [
       "<Figure size 432x288 with 2 Axes>"
      ]
     },
     "metadata": {
      "needs_background": "light"
     },
     "output_type": "display_data"
    },
    {
     "name": "stdout",
     "output_type": "stream",
     "text": [
      "Precision 0.19438444924406048\n",
      "Recall 0.0026862464183381087\n",
      "F-score 0.005299261047487266\n"
     ]
    }
   ],
   "source": [
    "acc = metrics.accuracy_score(y_test, y_pred)\n",
    "print('Accuracy: ', acc)\n",
    " \n",
    "plot_confusion_matrix(log, X_test_scaled, y_test)\n",
    "plt.title('Confusion matrix')\n",
    "plt.show()\n",
    "\n",
    "prec = metrics.precision_score(y_test, y_pred)\n",
    "print('Precision', prec)\n",
    "\n",
    "rec = metrics.recall_score(y_test, y_pred)\n",
    "print('Recall', rec)\n",
    "\n",
    "f1 = metrics.f1_score(y_test, y_pred)\n",
    "print('F-score', f1)"
   ]
  },
  {
   "cell_type": "markdown",
   "metadata": {},
   "source": [
    "La curva ROC es una medida del rendimiento del clasificador. Usando la proporción de puntos de datos positivos que se consideran correctamente como positivos y la proporción de puntos de datos negativos que se consideran erróneamente como positivos, generamos un gráfico que muestra el equilibrio entre la tasa a la que puede predecir algo correctamente con la tasa de predecir algo incorrectamente. En última instancia, nos preocupa el área bajo la curva ROC o AUROC. En este caso la métrica tiene un valor de 0'69. Al ser un valor menor a 0,80 podemos intuir que el modelo no hace un buen trabajo al discriminar entre las dos categorías que componen nuestra variable objetivo."
   ]
  },
  {
   "cell_type": "code",
   "execution_count": 32,
   "metadata": {},
   "outputs": [
    {
     "data": {
      "image/png": "[encoded data removed]",
      "text/plain": [
       "<Figure size 432x288 with 1 Axes>"
      ]
     },
     "metadata": {
      "needs_background": "light"
     },
     "output_type": "display_data"
    }
   ],
   "source": [
    "y_scores = log.predict_proba(X_test_scaled)\n",
    "fpr, tpr, threshold = roc_curve(y_test, y_scores[:, 1])\n",
    "roc_auc = auc(fpr, tpr)\n",
    "\n",
    "plt.title('Curva de características operativas del receptor(ROC)')\n",
    "plt.plot(fpr, tpr, 'b', label = 'AUC = %0.2f' % roc_auc)\n",
    "plt.legend(loc = 'lower right')\n",
    "plt.plot([0, 1], [0, 1],'r--')\n",
    "plt.xlim([0, 1])\n",
    "plt.ylim([0, 1])\n",
    "plt.ylabel('True Positive Rate')\n",
    "plt.xlabel('False Positive Rate')\n",
    "plt.title('ROC Curve of Logistic Regression')\n",
    "plt.show()"
   ]
  },
  {
   "cell_type": "markdown",
   "metadata": {
    "id": "qP0mWvqbbAyA"
   },
   "source": [
    "# <span style=\"color:Green\">KNN</span><a id=\"8\"></a> <br>"
   ]
  },
  {
   "cell_type": "markdown",
   "metadata": {},
   "source": [
    "KNN (K-Nearest Neighbors) de aprendizaje automático que examina las etiquetas de un número elegido de puntos de datos que rodean un punto de datos de destino, para hacer una predicción sobre la clase en la que cae el punto de datos.\n",
    "Este algoritmo slmacena el conjunto de datos de entrenamiento y aprende de él solo en el momento de hacer predicciones en tiempo real. Esto hace que el algoritmo KNN sea mucho más rápido que otros algoritmos que requieren entrenamiento, como el modelo de regresión lineal usado previamente.\n",
    "\n",
    "A continuación prepararemos un conjunto de entrenamiento y otro de test para ejecutar el algoritmo. Para asegurar la eficiencia del algoritmo deberemos escalar el conjunto de entrenamiento."
   ]
  },
  {
   "cell_type": "markdown",
   "metadata": {
    "id": "lfaE2DeBbAx_"
   },
   "source": [
    "## <span style=\"color:Green\">Partición de los datos</span><a id=\"9\"></a> <br>"
   ]
  },
  {
   "cell_type": "code",
   "execution_count": 36,
   "metadata": {
    "id": "pdvev1G3bAyA"
   },
   "outputs": [],
   "source": [
    "# Dividimos datos:\n",
    "cols = ['installment',\"sub_grade\",'total_acc','pub_rec_bankruptcies','home_ownership']\n",
    "X = df[cols]\n",
    "y= df[\"loan_status\"]\n",
    "\n",
    "X_train, X_test, y_train, y_test = train_test_split(X,y, test_size = 0.15, random_state = 0)\n",
    "\n",
    "scaler = MinMaxScaler()\n",
    "\n",
    "X_train_scaled = scaler.fit_transform(X_train)"
   ]
  },
  {
   "cell_type": "markdown",
   "metadata": {},
   "source": [
    "## <span style=\"color:Green\">Modelo"
   ]
  },
  {
   "cell_type": "code",
   "execution_count": 37,
   "metadata": {
    "colab": {
     "base_uri": "https://localhost:8080/"
    },
    "executionInfo": {
     "elapsed": 325979,
     "status": "ok",
     "timestamp": 1650295152810,
     "user": {
      "displayName": "Maria Garcia",
      "userId": "13829015885059236312"
     },
     "user_tz": -120
    },
    "id": "fss17rDrbAyB",
    "outputId": "88ba27af-d70a-48f8-f794-e363eba74c8d"
   },
   "outputs": [
    {
     "name": "stdout",
     "output_type": "stream",
     "text": [
      "[1, 2, 3, 4, 5, 6, 7, 8, 9, 10, 11, 12, 13, 14]\n",
      "1\n",
      "2\n",
      "3\n",
      "4\n",
      "5\n",
      "6\n",
      "7\n",
      "8\n",
      "9\n",
      "10\n",
      "11\n",
      "12\n",
      "13\n",
      "14\n",
      "{1: 0.7923786276105235, 2: 0.8619775186089262, 3: 0.8429843594611699, 4: 0.8674095169213152, 5: 0.8601090920049423, 6: 0.8704080402615797, 7: 0.8668746044661423, 8: 0.8719901756923726, 9: 0.870159418979598, 10: 0.8727360395383178, 11: 0.8720203116053401, 12: 0.8732182141457976, 13: 0.8727812434077691, 14: 0.8735195732754724}\n"
     ]
    }
   ],
   "source": [
    "ks = list(range(1, 15))\n",
    "print(ks)\n",
    "\n",
    "# En este diccionario iremos guardando las accuracies sobre test asociadas a cada valor de $k$\n",
    "accs = {}\n",
    "# Vamos recorriendo la rejilla con un bucle for...\n",
    "for k in ks:\n",
    "    print(k)\n",
    "    # Definimos el modelo con el valor de hiperparámetro correspondiente\n",
    "    knn = KNeighborsClassifier(n_neighbors=k)\n",
    "    \n",
    "    # Ajustamos a los datos de entrenamiento\n",
    "    knn.fit(X_train, y_train)\n",
    "    \n",
    "    # Hacemos predicciones sobre los datos de test\n",
    "    y_pred = knn.predict(X_test)\n",
    "    \n",
    "    # Evaluamos y guardamos la métrica correspondiente (en este caso accuracy)\n",
    "    acc = metrics.accuracy_score(y_test, y_pred)\n",
    "    \n",
    "    accs[k] = acc\n",
    "print(accs)"
   ]
  },
  {
   "cell_type": "code",
   "execution_count": 38,
   "metadata": {
    "colab": {
     "base_uri": "https://localhost:8080/",
     "height": 284
    },
    "executionInfo": {
     "elapsed": 679,
     "status": "ok",
     "timestamp": 1650295173253,
     "user": {
      "displayName": "Maria Garcia",
      "userId": "13829015885059236312"
     },
     "user_tz": -120
    },
    "id": "FU0CgBfnbAyB",
    "outputId": "db291aaa-6ada-4524-da57-0f1a06c07048"
   },
   "outputs": [
    {
     "data": {
      "image/png": "[encoded data removed]",
      "text/plain": [
       "<Figure size 432x288 with 1 Axes>"
      ]
     },
     "metadata": {
      "needs_background": "light"
     },
     "output_type": "display_data"
    }
   ],
   "source": [
    "ks_arr = np.fromiter(accs.keys(), dtype=int)\n",
    "accs_arr = np.fromiter(accs.values(), dtype=float)\n",
    "\n",
    "plt.plot(ks_arr, accs_arr, 'ok')\n",
    "plt.grid(True)\n",
    "plt.xlabel('Hiperparámetro $k$');\n",
    "plt.ylabel('Acc. sobre test');\n"
   ]
  },
  {
   "cell_type": "markdown",
   "metadata": {
    "id": "T5hmMDNpbAyB"
   },
   "source": [
    "Vemos que a partir de 8 Hiperparámetros no hay gran diferencia en cuanto a la accuracy, vamos a hacer KNN con 8 hiperparámetros."
   ]
  },
  {
   "cell_type": "code",
   "execution_count": 40,
   "metadata": {
    "id": "qycskHuGbAyB"
   },
   "outputs": [],
   "source": [
    "knn = KNeighborsClassifier(n_neighbors=8)\n",
    "knn.fit(X_train_scaled,y_train)\n",
    "\n",
    "X_test_scaled = scaler.transform(X_test)\n",
    "\n",
    "y_pred = knn.predict(X_test_scaled)"
   ]
  },
  {
   "cell_type": "markdown",
   "metadata": {
    "id": "GnlTYCcubAyB"
   },
   "source": [
    "## <span style=\"color:RED\">Evaluación del modelo</span><a id=\"10\"></a> <br>"
   ]
  },
  {
   "cell_type": "markdown",
   "metadata": {},
   "source": [
    "A partir de la matriz de confusión podemos obtener la exactitud, precisión, sensiblidad y F-score de este modelo. La exactitud del modelo («accuracy«) representa el porcentaje de predicciones correctas frente al total siendo un 87% un valor aceptable. La precisión, (“precision”) se refiere a lo cerca que está el resultado de una predicción del valor verdadero. El valor obtenido para este modelo es de un 17%. Por tanto, nuestro modelo es aún menos preciso que el de regresión logística previamente usado. La sensibilidad (\"recall\") es la proporción entre los casos positivos bien clasificados por el modelo, respecto al total de positivos y por tanto representa la habilidad del modelo de detectar los casos relevantes. Un 0'3% es claramente un valor no deseado para esta métrica pero supera al algoritmo anterior. Por lo tanto, podemos decir que nuestro algoritmo de clasificación también es poco sensible, «se le escapan» muchos positivos.\n",
    "\n",
    "KNN no parece haber mejorado mucho las propiedades de su modelo respecto al modelo anterior aunque la exactitud sigue presentanto un valor aceptable."
   ]
  },
  {
   "cell_type": "code",
   "execution_count": 41,
   "metadata": {
    "id": "YXvbEKnCbAyC"
   },
   "outputs": [
    {
     "name": "stdout",
     "output_type": "stream",
     "text": [
      "Accuracy:  0.8723668746044662\n"
     ]
    },
    {
     "name": "stderr",
     "output_type": "stream",
     "text": [
      "/opt/anaconda3/envs/alvblas/lib/python3.9/site-packages/sklearn/utils/deprecation.py:87: FutureWarning: Function plot_confusion_matrix is deprecated; Function `plot_confusion_matrix` is deprecated in 1.0 and will be removed in 1.2. Use one of the class methods: ConfusionMatrixDisplay.from_predictions or ConfusionMatrixDisplay.from_estimator.\n",
      "  warnings.warn(msg, category=FutureWarning)\n"
     ]
    },
    {
     "data": {
      "image/png": "[encoded data removed]",
      "text/plain": [
       "<Figure size 432x288 with 2 Axes>"
      ]
     },
     "metadata": {
      "needs_background": "light"
     },
     "output_type": "display_data"
    },
    {
     "name": "stdout",
     "output_type": "stream",
     "text": [
      "Precision 0.17314487632508835\n",
      "Recall 0.00292432561470518\n",
      "F-score 0.8149018252707815\n"
     ]
    }
   ],
   "source": [
    "from sklearn import metrics\n",
    "from sklearn.metrics import plot_confusion_matrix\n",
    "\n",
    "acc = metrics.accuracy_score(y_test, y_pred)\n",
    "print('Accuracy: ', acc)\n",
    " \n",
    "plot_confusion_matrix(knn, X_test_scaled, y_test)\n",
    "plt.title('Confusion matrix')\n",
    "plt.show()\n",
    "\n",
    "prec = metrics.precision_score(y_test, y_pred)\n",
    "print('Precision', prec)\n",
    "\n",
    "rec = metrics.recall_score(y_test, y_pred)\n",
    "print('Recall', rec)\n",
    "\n",
    "f1 = metrics.f1_score(y_test, y_pred,average='weighted', labels=np.unique(y_pred))\n",
    "print('F-score', f1)"
   ]
  },
  {
   "cell_type": "markdown",
   "metadata": {},
   "source": [
    "Observando la curva de características operativas del receptor (ROC), la métrica obtenida tiene un valor de 0'54. Ya que la métrica oscila entre los valores 0'50 y 1'00 siendo valores superiores a 0,80 modelos aptos, podemos intuir que el modelo no hace un buen trabajo al discriminar entre las dos categorías que componen nuestra variable objetivo."
   ]
  },
  {
   "cell_type": "code",
   "execution_count": 42,
   "metadata": {
    "id": "wK8SKwp1bAyC"
   },
   "outputs": [
    {
     "data": {
      "image/png": "[encoded data removed]",
      "text/plain": [
       "<Figure size 432x288 with 1 Axes>"
      ]
     },
     "metadata": {
      "needs_background": "light"
     },
     "output_type": "display_data"
    }
   ],
   "source": [
    "y_scores = knn.predict_proba(X_test_scaled)\n",
    "fpr, tpr, threshold = roc_curve(y_test, y_scores[:, 1])\n",
    "roc_auc = auc(fpr, tpr)\n",
    "\n",
    "plt.title('Curva de características operativas del receptor(ROC)')\n",
    "plt.plot(fpr, tpr, 'b', label = 'AUC = %0.2f' % roc_auc)\n",
    "plt.legend(loc = 'lower right')\n",
    "plt.plot([0, 1], [0, 1],'r--')\n",
    "plt.xlim([0, 1])\n",
    "plt.ylim([0, 1])\n",
    "plt.ylabel('True Positive Rate')\n",
    "plt.xlabel('False Positive Rate')\n",
    "plt.title('ROC Curve of kNN')\n",
    "plt.show()"
   ]
  },
  {
   "cell_type": "markdown",
   "metadata": {
    "id": "HWYJ38ZJbAyC"
   },
   "source": [
    "# <span style=\"color:Green\">Árbol de decisión</span><a id=\"11\"></a> <br>"
   ]
  },
  {
   "cell_type": "markdown",
   "metadata": {},
   "source": [
    "Un árbol de decisión es una técnica de aprendizaje automático que se puede utilizar para regresión y clasificación. Un árbol de decisión recibe su nombre porque el algoritmo divide el conjunto de datos en partes cada vez más pequeñas hasta que los datos se dividen en instancias únicas, que luego se clasifican.\n",
    "\n",
    "Este algoritmo puede capturar relaciones no lineales y no requiere ninguna transformación de las características si se trata de datos no lineales ya que los árboles de decisión no tienen en cuenta múltiples combinaciones ponderadas simultáneamente. Por tanto esta vez no escalaremos el set de entrenamiento. Es un algoritmo rápidos y eficientes en comparación con KNN y ofrece fácil interpretación y visualización."
   ]
  },
  {
   "cell_type": "code",
   "execution_count": 52,
   "metadata": {
    "executionInfo": {
     "elapsed": 584,
     "status": "ok",
     "timestamp": 1650296407292,
     "user": {
      "displayName": "Maria Garcia",
      "userId": "13829015885059236312"
     },
     "user_tz": -120
    },
    "id": "ss2E4Jh0bAyC"
   },
   "outputs": [],
   "source": [
    "%matplotlib inline\n",
    "from sklearn.tree import DecisionTreeClassifier\n",
    "from sklearn.tree import export_graphviz\n",
    "import graphviz"
   ]
  },
  {
   "cell_type": "markdown",
   "metadata": {
    "id": "lfaE2DeBbAx_"
   },
   "source": [
    "## <span style=\"color:Green\">Partición de los datos</span><a id=\"9\"></a> <br>"
   ]
  },
  {
   "cell_type": "code",
   "execution_count": 53,
   "metadata": {
    "executionInfo": {
     "elapsed": 1,
     "status": "ok",
     "timestamp": 1650296409057,
     "user": {
      "displayName": "Maria Garcia",
      "userId": "13829015885059236312"
     },
     "user_tz": -120
    },
    "id": "e4saTmd2bAyC"
   },
   "outputs": [],
   "source": [
    "# Dividimos datos:\n",
    "X = df.drop(\"loan_status\",axis =1 )\n",
    "y= df[\"loan_status\"]\n",
    "\n",
    "\n",
    "X_train, X_test, y_train, y_test = train_test_split(X,y, test_size = 0.30,random_state = 0)"
   ]
  },
  {
   "cell_type": "markdown",
   "metadata": {},
   "source": [
    "## <span style=\"color:Green\">Modelo"
   ]
  },
  {
   "cell_type": "code",
   "execution_count": 54,
   "metadata": {
    "colab": {
     "base_uri": "https://localhost:8080/",
     "height": 364
    },
    "executionInfo": {
     "elapsed": 3578,
     "status": "error",
     "timestamp": 1650296415939,
     "user": {
      "displayName": "Maria Garcia",
      "userId": "13829015885059236312"
     },
     "user_tz": -120
    },
    "id": "RWCnMS73bAyC",
    "outputId": "989a7ad4-4cab-4c8c-fc56-7cb615be249d"
   },
   "outputs": [
    {
     "data": {
      "text/plain": [
       "DecisionTreeClassifier(max_depth=1)"
      ]
     },
     "execution_count": 54,
     "metadata": {},
     "output_type": "execute_result"
    }
   ],
   "source": [
    "# Con cross validation vemos cual es la mejor profundidad del arbol\n",
    "from sklearn.model_selection import GridSearchCV\n",
    "arbol = DecisionTreeClassifier()\n",
    "scoring = [\"accuracy\"]\n",
    "param_grid = {'max_depth': list(range(1,15))}\n",
    "cv = GridSearchCV(arbol, param_grid, n_jobs = -1, scoring = \"accuracy\", cv=8)\n",
    "cv.fit(X_train,y_train)\n",
    "cv.best_estimator_ "
   ]
  },
  {
   "cell_type": "code",
   "execution_count": 63,
   "metadata": {
    "colab": {
     "base_uri": "https://localhost:8080/"
    },
    "executionInfo": {
     "elapsed": 1074,
     "status": "ok",
     "timestamp": 1650296419217,
     "user": {
      "displayName": "Maria Garcia",
      "userId": "13829015885059236312"
     },
     "user_tz": -120
    },
    "id": "ooqk6FMgbAyD",
    "outputId": "8f7f5a33-bcfd-463a-ccde-c0a72bb6a3a8"
   },
   "outputs": [
    {
     "data": {
      "text/plain": [
       "0.5046315305711153"
      ]
     },
     "execution_count": 63,
     "metadata": {},
     "output_type": "execute_result"
    }
   ],
   "source": [
    "arbol = DecisionTreeClassifier(max_depth=1,class_weight = 'balanced')\n",
    "arbol.fit(X_train,y_train)\n",
    "\n",
    "\n",
    "\n",
    "arbol.score(X_test,y_test)\n"
   ]
  },
  {
   "cell_type": "code",
   "execution_count": 64,
   "metadata": {
    "executionInfo": {
     "elapsed": 283,
     "status": "ok",
     "timestamp": 1650296480175,
     "user": {
      "displayName": "Maria Garcia",
      "userId": "13829015885059236312"
     },
     "user_tz": -120
    },
    "id": "S1W-TP2hVb7o"
   },
   "outputs": [],
   "source": [
    "y_pred = arbol.predict(X_test)"
   ]
  },
  {
   "cell_type": "code",
   "execution_count": 65,
   "metadata": {
    "colab": {
     "base_uri": "https://localhost:8080/",
     "height": 575
    },
    "executionInfo": {
     "elapsed": 460,
     "status": "ok",
     "timestamp": 1650296421859,
     "user": {
      "displayName": "Maria Garcia",
      "userId": "13829015885059236312"
     },
     "user_tz": -120
    },
    "id": "kpsYhTc3bAyD",
    "outputId": "f97311f2-f268-4cfc-bbe5-6133533b9877"
   },
   "outputs": [
    {
     "data": {
      "image/png": "[encoded data removed]",
      "text/plain": [
       "<Figure size 1080x720 with 1 Axes>"
      ]
     },
     "metadata": {
      "needs_background": "light"
     },
     "output_type": "display_data"
    }
   ],
   "source": [
    "from sklearn import tree\n",
    "\n",
    "plt.figure(figsize=(15, 10))\n",
    "tree.plot_tree(arbol);\n"
   ]
  },
  {
   "cell_type": "markdown",
   "metadata": {
    "id": "x6HqKebNbAyD"
   },
   "source": [
    "## <span style=\"color:RED\">Evaluación del modelo</span><a id=\"12\"></a> <br>"
   ]
  },
  {
   "cell_type": "markdown",
   "metadata": {},
   "source": [
    "En este tercer algoritmo hemos obtenido datos bastantes diferentes, si bien KNN supuso una leve mejoría general sobre el algoritmo de regresión logística, en este modelo perdemos mucha exactitud siendo un 50% un valor que deja bastante a desear y una precisión bastante parecida a los otros dos modelos de un 17%. Sin embargo, este modelo resalta por sensibilidad de un 78% y por tanto este modelo destaca por su capacidad para detectar los casos relevantes. El método de árboles de decisión crea un modelo bastante sensible."
   ]
  },
  {
   "cell_type": "code",
   "execution_count": 66,
   "metadata": {
    "colab": {
     "base_uri": "https://localhost:8080/",
     "height": 454
    },
    "executionInfo": {
     "elapsed": 1270,
     "status": "ok",
     "timestamp": 1650296485100,
     "user": {
      "displayName": "Maria Garcia",
      "userId": "13829015885059236312"
     },
     "user_tz": -120
    },
    "id": "4FDnClYkbAyD",
    "outputId": "3643093f-2f47-4e46-8e7d-36de343da907"
   },
   "outputs": [
    {
     "name": "stdout",
     "output_type": "stream",
     "text": [
      "Accuracy:  0.5046315305711153\n"
     ]
    },
    {
     "name": "stderr",
     "output_type": "stream",
     "text": [
      "/opt/anaconda3/envs/alvblas/lib/python3.9/site-packages/sklearn/utils/deprecation.py:87: FutureWarning: Function plot_confusion_matrix is deprecated; Function `plot_confusion_matrix` is deprecated in 1.0 and will be removed in 1.2. Use one of the class methods: ConfusionMatrixDisplay.from_predictions or ConfusionMatrixDisplay.from_estimator.\n",
      "  warnings.warn(msg, category=FutureWarning)\n"
     ]
    },
    {
     "data": {
      "image/png": "[encoded data removed]",
      "text/plain": [
       "<Figure size 432x288 with 2 Axes>"
      ]
     },
     "metadata": {
      "needs_background": "light"
     },
     "output_type": "display_data"
    },
    {
     "name": "stdout",
     "output_type": "stream",
     "text": [
      "Precision 0.17507725361732604\n",
      "Recall 0.7880253104106972\n",
      "F-score 0.2865017959263399\n"
     ]
    }
   ],
   "source": [
    "acc = metrics.accuracy_score(y_test, y_pred)\n",
    "print('Accuracy: ', acc)\n",
    " \n",
    "plot_confusion_matrix(arbol, X_test, y_test)\n",
    "plt.title('Confusion matrix')\n",
    "plt.show()\n",
    "\n",
    "prec = metrics.precision_score(y_test, y_pred)\n",
    "print('Precision', prec)\n",
    "\n",
    "rec = metrics.recall_score(y_test, y_pred)\n",
    "print('Recall', rec)\n",
    "\n",
    "f1 = metrics.f1_score(y_test, y_pred)\n",
    "print('F-score', f1)"
   ]
  },
  {
   "cell_type": "markdown",
   "metadata": {},
   "source": [
    "Observando la curva de características operativas del receptor (ROC), la métrica obtenida tiene un valor de 0'63. Ya que la métrica oscila entre los valores 0'50 y 1'00 siendo valores superiores a 0,80 modelos aptos, podemos intuir que el modelo no hace un buen trabajo al discriminar entre las dos categorías que componen nuestra variable objetivo."
   ]
  },
  {
   "cell_type": "code",
   "execution_count": 67,
   "metadata": {
    "id": "G9dqWMpCbAyD"
   },
   "outputs": [
    {
     "data": {
      "image/png": "[encoded data removed]",
      "text/plain": [
       "<Figure size 432x288 with 1 Axes>"
      ]
     },
     "metadata": {
      "needs_background": "light"
     },
     "output_type": "display_data"
    }
   ],
   "source": [
    "y_scores = arbol.predict_proba(X_test)\n",
    "fpr, tpr, threshold = roc_curve(y_test, y_scores[:, 1])\n",
    "roc_auc = auc(fpr, tpr)\n",
    "\n",
    "plt.title('Curva de características operativas del receptor(ROC)')\n",
    "plt.plot(fpr, tpr, 'b', label = 'AUC = %0.2f' % roc_auc)\n",
    "plt.legend(loc = 'lower right')\n",
    "plt.plot([0, 1], [0, 1],'r--')\n",
    "plt.xlim([0, 1])\n",
    "plt.ylim([0, 1])\n",
    "plt.ylabel('True Positive Rate')\n",
    "plt.xlabel('False Positive Rate')\n",
    "plt.title('ROC Curve of Decision Tree')\n",
    "plt.show()"
   ]
  },
  {
   "cell_type": "markdown",
   "metadata": {
    "id": "HJSGSeXObAyF"
   },
   "source": [
    "# <span style=\"color:Green\">Ordenanción de métodos segun métricas</span><a id=\"13\"></a> <br>"
   ]
  },
  {
   "cell_type": "markdown",
   "metadata": {},
   "source": [
    "# <span style=\"color:Green\">Gráfica de importancias</span><a id=\"14\"></a> <br>"
   ]
  }
 ],
 "metadata": {
  "colab": {
   "collapsed_sections": [],
   "name": "Trabajo-Copy1.ipynb",
   "provenance": []
  },
  "interpreter": {
   "hash": "31f2aee4e71d21fbe5cf8b01ff0e069b9275f58929596ceb00d14d90e3e16cd6"
  },
  "kernelspec": {
   "display_name": "Python 3 (ipykernel)",
   "language": "python",
   "name": "python3"
  },
  "language_info": {
   "codemirror_mode": {
    "name": "ipython",
    "version": 3
   },
   "file_extension": ".py",
   "mimetype": "text/x-python",
   "name": "python",
   "nbconvert_exporter": "python",
   "pygments_lexer": "ipython3",
   "version": "3.9.7"
  }
 },
 "nbformat": 4,
 "nbformat_minor": 1
}
